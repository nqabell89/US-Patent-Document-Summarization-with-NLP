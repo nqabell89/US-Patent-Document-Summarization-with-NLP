{
 "cells": [
  {
   "cell_type": "markdown",
   "metadata": {},
   "source": [
    "### Import Packages and py Files"
   ]
  },
  {
   "cell_type": "code",
   "execution_count": 5,
   "metadata": {},
   "outputs": [],
   "source": [
    "import string\n",
    "import spacy\n",
    "from spacy.lang.en.stop_words import STOP_WORDS\n",
    "from spacy.lang.en import English\n",
    "from tokenizer_function import spacy_tokenizer\n",
    "\n",
    "from sklearn.feature_extraction.text import CountVectorizer, TfidfVectorizer\n",
    "from sklearn.cluster import DBSCAN\n",
    "from sklearn import metrics\n",
    "from sklearn.model_selection import GridSearchCV\n",
    "\n",
    "import pandas as pd\n",
    "import numpy as np\n",
    "import pickle\n",
    "\n",
    "import matplotlib.pyplot as plt\n",
    "%matplotlib inline"
   ]
  },
  {
   "cell_type": "markdown",
   "metadata": {},
   "source": [
    "### Get Patent Dataframe"
   ]
  },
  {
   "cell_type": "code",
   "execution_count": 2,
   "metadata": {},
   "outputs": [
    {
     "data": {
      "text/html": [
       "<div>\n",
       "<style scoped>\n",
       "    .dataframe tbody tr th:only-of-type {\n",
       "        vertical-align: middle;\n",
       "    }\n",
       "\n",
       "    .dataframe tbody tr th {\n",
       "        vertical-align: top;\n",
       "    }\n",
       "\n",
       "    .dataframe thead th {\n",
       "        text-align: right;\n",
       "    }\n",
       "</style>\n",
       "<table border=\"1\" class=\"dataframe\">\n",
       "  <thead>\n",
       "    <tr style=\"text-align: right;\">\n",
       "      <th></th>\n",
       "      <th>patent_number</th>\n",
       "      <th>patent_date</th>\n",
       "      <th>patent_title</th>\n",
       "      <th>patent_abstract</th>\n",
       "      <th>patent_firstnamed_assignee_id</th>\n",
       "      <th>patent_year</th>\n",
       "      <th>patent_type</th>\n",
       "      <th>patent_kind</th>\n",
       "      <th>patent_title_and_abstract</th>\n",
       "    </tr>\n",
       "  </thead>\n",
       "  <tbody>\n",
       "    <tr>\n",
       "      <td>0</td>\n",
       "      <td>10603498</td>\n",
       "      <td>2020-03-31</td>\n",
       "      <td>Systems and methods for closed-loop determinat...</td>\n",
       "      <td>A method or system for facilitating the determ...</td>\n",
       "      <td>org_5cFCcVidnLqkMwKWc9s4</td>\n",
       "      <td>2020</td>\n",
       "      <td>utility</td>\n",
       "      <td>B2</td>\n",
       "      <td>Systems and methods for closed-loop determinat...</td>\n",
       "    </tr>\n",
       "    <tr>\n",
       "      <td>1</td>\n",
       "      <td>10603793</td>\n",
       "      <td>2020-03-31</td>\n",
       "      <td>Work assisting system including machine learni...</td>\n",
       "      <td>A work assisting system includes a sensor unit...</td>\n",
       "      <td>org_RQZono9Ir8KVdgNAaglV</td>\n",
       "      <td>2020</td>\n",
       "      <td>utility</td>\n",
       "      <td>B2</td>\n",
       "      <td>Work assisting system including machine learni...</td>\n",
       "    </tr>\n",
       "    <tr>\n",
       "      <td>2</td>\n",
       "      <td>10603797</td>\n",
       "      <td>2020-03-31</td>\n",
       "      <td>Machine learning device, robot system, and mac...</td>\n",
       "      <td>A machine learning device for learning a motio...</td>\n",
       "      <td>org_RQZono9Ir8KVdgNAaglV</td>\n",
       "      <td>2020</td>\n",
       "      <td>utility</td>\n",
       "      <td>B2</td>\n",
       "      <td>Machine learning device, robot system, and mac...</td>\n",
       "    </tr>\n",
       "    <tr>\n",
       "      <td>3</td>\n",
       "      <td>10605228</td>\n",
       "      <td>2020-03-31</td>\n",
       "      <td>Method for controlling operation of a wind tur...</td>\n",
       "      <td>A method for controlling operation of a wind t...</td>\n",
       "      <td>org_VIvs7w0sts1aCjlrKaiG</td>\n",
       "      <td>2020</td>\n",
       "      <td>utility</td>\n",
       "      <td>B2</td>\n",
       "      <td>Method for controlling operation of a wind tur...</td>\n",
       "    </tr>\n",
       "    <tr>\n",
       "      <td>4</td>\n",
       "      <td>10605702</td>\n",
       "      <td>2020-03-31</td>\n",
       "      <td>Fluid analysis and monitoring using optical sp...</td>\n",
       "      <td>Systems, methods, and computer-program product...</td>\n",
       "      <td>org_aHdfa1XsbUURjnXmlGyp</td>\n",
       "      <td>2020</td>\n",
       "      <td>utility</td>\n",
       "      <td>B2</td>\n",
       "      <td>Fluid analysis and monitoring using optical sp...</td>\n",
       "    </tr>\n",
       "  </tbody>\n",
       "</table>\n",
       "</div>"
      ],
      "text/plain": [
       "  patent_number patent_date  \\\n",
       "0      10603498  2020-03-31   \n",
       "1      10603793  2020-03-31   \n",
       "2      10603797  2020-03-31   \n",
       "3      10605228  2020-03-31   \n",
       "4      10605702  2020-03-31   \n",
       "\n",
       "                                        patent_title  \\\n",
       "0  Systems and methods for closed-loop determinat...   \n",
       "1  Work assisting system including machine learni...   \n",
       "2  Machine learning device, robot system, and mac...   \n",
       "3  Method for controlling operation of a wind tur...   \n",
       "4  Fluid analysis and monitoring using optical sp...   \n",
       "\n",
       "                                     patent_abstract  \\\n",
       "0  A method or system for facilitating the determ...   \n",
       "1  A work assisting system includes a sensor unit...   \n",
       "2  A machine learning device for learning a motio...   \n",
       "3  A method for controlling operation of a wind t...   \n",
       "4  Systems, methods, and computer-program product...   \n",
       "\n",
       "  patent_firstnamed_assignee_id patent_year patent_type patent_kind  \\\n",
       "0      org_5cFCcVidnLqkMwKWc9s4        2020     utility          B2   \n",
       "1      org_RQZono9Ir8KVdgNAaglV        2020     utility          B2   \n",
       "2      org_RQZono9Ir8KVdgNAaglV        2020     utility          B2   \n",
       "3      org_VIvs7w0sts1aCjlrKaiG        2020     utility          B2   \n",
       "4      org_aHdfa1XsbUURjnXmlGyp        2020     utility          B2   \n",
       "\n",
       "                           patent_title_and_abstract  \n",
       "0  Systems and methods for closed-loop determinat...  \n",
       "1  Work assisting system including machine learni...  \n",
       "2  Machine learning device, robot system, and mac...  \n",
       "3  Method for controlling operation of a wind tur...  \n",
       "4  Fluid analysis and monitoring using optical sp...  "
      ]
     },
     "execution_count": 2,
     "metadata": {},
     "output_type": "execute_result"
    }
   ],
   "source": [
    "df = pd.read_pickle(\"data/df.pkl\")\n",
    "df.head()"
   ]
  },
  {
   "cell_type": "markdown",
   "metadata": {},
   "source": [
    "### Additional Stopwords To Improve Topic Modelling Accuracy"
   ]
  },
  {
   "cell_type": "code",
   "execution_count": 3,
   "metadata": {},
   "outputs": [],
   "source": [
    "# Add terms that are too generic for this topic modelling task, like \"machine, learning, model\" etc\n",
    "additional_stopwords = ['training', 'problem', 'use', 'model', 'machine', 'learning', 'function', 'set', 'data', 'learn',\n",
    "                        'determine', 'program', 'computer', 'parameter', 'memory', 'node', 'configure', 'sequence',\n",
    "                        'computing', 'datum', 'compute', 'result', 'generate', 'field', 'file', 'code', 'method', 'test',\n",
    "                        'interface', 'pattern', 'user', 'employ', 'operation', 'technique', 'analysis', 'neural', 'network',\n",
    "                        'invention', 'feature', 'object']"
   ]
  },
  {
   "cell_type": "markdown",
   "metadata": {},
   "source": [
    "### Tokenize, Vectorize Text"
   ]
  },
  {
   "cell_type": "code",
   "execution_count": 26,
   "metadata": {},
   "outputs": [],
   "source": [
    "cv = CountVectorizer(tokenizer=spacy_tokenizer, ngram_range = (1,2), stop_words=additional_stopwords)\n",
    "dtm = cv.fit_transform(df['patent_title_and_abstract'])\n",
    "dtm.to_pickle(\"data/dtm.pkl\")"
   ]
  },
  {
   "cell_type": "code",
   "execution_count": 27,
   "metadata": {},
   "outputs": [],
   "source": [
    "tfidf_cv = TfidfVectorizer(tokenizer=spacy_tokenizer, ngram_range = (1,2), stop_words=additional_stopwords)\n",
    "tfidf_dtm = tfidf_cv.fit_transform(df['patent_title_and_abstract'])\n",
    "tfidf_dtm.to_pickle(\"data/tfidf_dtm.pkl\")"
   ]
  },
  {
   "cell_type": "code",
   "execution_count": null,
   "metadata": {},
   "outputs": [],
   "source": [
    "dtm = pd.read_pickle(\"data/dtm.pkl\")\n",
    "tfidf_dtm = pd.read_pickle(\"data/tfidf_dtm.pkl\")"
   ]
  },
  {
   "cell_type": "code",
   "execution_count": null,
   "metadata": {},
   "outputs": [],
   "source": [
    "dense_dtm = dtm.todense()\n",
    "dense_tfidf_dtm = tfidf_dtm.todense()"
   ]
  },
  {
   "cell_type": "markdown",
   "metadata": {},
   "source": [
    "### DBSCAN GridSearch to Identify Best Model Params"
   ]
  },
  {
   "cell_type": "code",
   "execution_count": 28,
   "metadata": {},
   "outputs": [
    {
     "name": "stdout",
     "output_type": "stream",
     "text": [
      "Fitting 3 folds for each of 6 candidates, totalling 18 fits\n"
     ]
    },
    {
     "name": "stderr",
     "output_type": "stream",
     "text": [
      "[Parallel(n_jobs=-1)]: Using backend LokyBackend with 4 concurrent workers.\n",
      "[Parallel(n_jobs=-1)]: Done  18 out of  18 | elapsed: 18.9min finished\n"
     ]
    },
    {
     "data": {
      "text/plain": [
       "GridSearchCV(cv=3, error_score=nan,\n",
       "             estimator=LatentDirichletAllocation(batch_size=500,\n",
       "                                                 doc_topic_prior=None,\n",
       "                                                 evaluate_every=-1,\n",
       "                                                 learning_decay=0.7,\n",
       "                                                 learning_method='online',\n",
       "                                                 learning_offset=10.0,\n",
       "                                                 max_doc_update_iter=100,\n",
       "                                                 max_iter=50,\n",
       "                                                 mean_change_tol=0.001,\n",
       "                                                 n_components=10, n_jobs=None,\n",
       "                                                 perp_tol=0.1,\n",
       "                                                 random_state=None,\n",
       "                                                 topic_word_prior=None,\n",
       "                                                 total_samples=1000000.0,\n",
       "                                                 verbose=0),\n",
       "             iid='deprecated', n_jobs=-1,\n",
       "             param_grid={'n_components': [20, 25, 30, 35, 40, 45]},\n",
       "             pre_dispatch='2*n_jobs', refit=True, return_train_score=False,\n",
       "             scoring=None, verbose=2)"
      ]
     },
     "execution_count": 28,
     "metadata": {},
     "output_type": "execute_result"
    }
   ],
   "source": [
    "# Define Search Param\n",
    "search_params = {'eps': [0.2, 0.4, 0.6, 0.8], 'min_samples': [5, 15, 25, 35, 45]\n",
    "                 'metric': ['euclidean', 'precomputed']}\n",
    "\n",
    "# Init the Model\n",
    "dbs = DBSCAN(n_jobs = -1)\n",
    "\n",
    "# Init Grid Search Class\n",
    "model = GridSearchCV(dbs, param_grid=search_params, verbose=2, n_jobs = -1)\n",
    "\n",
    "# Do the Grid Search\n",
    "model.fit(dtm)\n",
    "#model.fit(tfidf_dtm)\n"
   ]
  },
  {
   "cell_type": "code",
   "execution_count": null,
   "metadata": {},
   "outputs": [],
   "source": []
  },
  {
   "cell_type": "code",
   "execution_count": 29,
   "metadata": {},
   "outputs": [
    {
     "name": "stdout",
     "output_type": "stream",
     "text": [
      "Best Model's Params:  {'n_components': 20}\n",
      "Best Log Likelihood Score:  -2037467.0672747653\n",
      "Model Perplexity:  20773.241424839314\n"
     ]
    }
   ],
   "source": [
    "# Best Model\n",
    "best_dbs_model = model.best_estimator_\n",
    "\n",
    "core_samples_mask = np.zeros_like(dbs.labels_, dtype=bool)\n",
    "\n",
    "core_samples_mask[dbs.core_sample_indices_] = True\n",
    "\n",
    "labels = dbs.labels_\n",
    "\n",
    "# Model Parameters\n",
    "print(\"Best Model's Params: \", model.best_params_)\n",
    "\n",
    "# Performance Score\n",
    "print(\"Best Score: \", model.best_score_)"
   ]
  },
  {
   "cell_type": "code",
   "execution_count": null,
   "metadata": {},
   "outputs": [],
   "source": [
    "# Number of clusters in labels, ignoring noise if present.\n",
    "n_clusters_ = len(set(labels)) - (1 if -1 in labels else 0)\n",
    "n_noise_ = list(labels).count(-1)\n",
    "\n",
    "print('Estimated number of clusters: %d' % n_clusters_)\n",
    "print('Estimated number of noise points: %d' % n_noise_)\n",
    "print(\"Homogeneity: %0.3f\" % metrics.homogeneity_score(labels_true, labels))\n",
    "print(\"Completeness: %0.3f\" % metrics.completeness_score(labels_true, labels))\n",
    "print(\"V-measure: %0.3f\" % metrics.v_measure_score(labels_true, labels))\n",
    "print(\"Adjusted Rand Index: %0.3f\"\n",
    "      % metrics.adjusted_rand_score(labels_true, labels))\n",
    "print(\"Adjusted Mutual Information: %0.3f\"\n",
    "      % metrics.adjusted_mutual_info_score(labels_true, labels))\n",
    "print(\"Silhouette Coefficient: %0.3f\"\n",
    "      % metrics.silhouette_score(X, labels))\n",
    "\n",
    "# Plot result\n",
    "import matplotlib.pyplot as plt\n",
    "%matplotlib inline\n",
    "\n",
    "# Black removed and is used for noise instead.\n",
    "unique_labels = set(labels)\n",
    "colors = [plt.cm.Spectral(each)\n",
    "          for each in np.linspace(0, 1, len(unique_labels))]\n",
    "for k, col in zip(unique_labels, colors):\n",
    "    if k == -1:\n",
    "        # Black used for noise.\n",
    "        col = [0, 0, 0, 1]\n",
    "\n",
    "    class_member_mask = (labels == k)\n",
    "\n",
    "    xy = X[class_member_mask & core_samples_mask]\n",
    "    plt.plot(xy[:, 0], xy[:, 1], 'o', markerfacecolor=tuple(col),\n",
    "             markeredgecolor='k', markersize=14)\n",
    "\n",
    "    xy = X[class_member_mask & ~core_samples_mask]\n",
    "    plt.plot(xy[:, 0], xy[:, 1], 'o', markerfacecolor=tuple(col),\n",
    "             markeredgecolor='k', markersize=6)\n",
    "\n",
    "plt.title('Estimated number of clusters: %d' % n_clusters_)\n",
    "plt.show()"
   ]
  }
 ],
 "metadata": {
  "kernelspec": {
   "display_name": "Python 3",
   "language": "python",
   "name": "python3"
  },
  "language_info": {
   "codemirror_mode": {
    "name": "ipython",
    "version": 3
   },
   "file_extension": ".py",
   "mimetype": "text/x-python",
   "name": "python",
   "nbconvert_exporter": "python",
   "pygments_lexer": "ipython3",
   "version": "3.7.4"
  }
 },
 "nbformat": 4,
 "nbformat_minor": 4
}
