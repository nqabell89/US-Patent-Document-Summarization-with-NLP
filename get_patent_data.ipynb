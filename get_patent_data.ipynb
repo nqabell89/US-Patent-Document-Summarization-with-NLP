{
 "cells": [
  {
   "cell_type": "code",
   "execution_count": 20,
   "metadata": {},
   "outputs": [],
   "source": [
    "from __future__ import absolute_import, division, print_function, unicode_literals\n",
    "\n",
    "import pandas as pd\n",
    "import numpy as np\n",
    "import requests\n",
    "import json\n",
    "\n",
    "from pandas.io.json import json_normalize\n",
    "import pickle\n",
    "from collections import ChainMap"
   ]
  },
  {
   "cell_type": "code",
   "execution_count": 22,
   "metadata": {},
   "outputs": [],
   "source": [
    "pd.options.display.max_columns = 50\n",
    "pd.set_option('display.max_rows', 50)"
   ]
  },
  {
   "cell_type": "code",
   "execution_count": 23,
   "metadata": {},
   "outputs": [],
   "source": [
    "endpoint_url = 'http://www.patentsview.org/api/patents/query'"
   ]
  },
  {
   "cell_type": "code",
   "execution_count": 24,
   "metadata": {
    "jupyter": {
     "source_hidden": true
    },
    "scrolled": true
   },
   "outputs": [],
   "source": [
    "patent_fields_full = ['appcit_app_number',\n",
    " 'appcit_category',\n",
    " 'appcit_date',\n",
    " 'appcit_kind',\n",
    " 'appcit_sequence',\n",
    " 'app_country',\n",
    " 'app_date',\n",
    " 'app_number',\n",
    " 'app_type',\n",
    " 'assignee_city',\n",
    " 'assignee_country',\n",
    " 'assignee_county',\n",
    " 'assignee_county_fips',\n",
    " 'assignee_first_name',\n",
    " 'assignee_first_seen_date',\n",
    " 'assignee_id',\n",
    " 'assignee_last_name',\n",
    " 'assignee_last_seen_date',\n",
    " 'assignee_lastknown_city',\n",
    " 'assignee_lastknown_country',\n",
    " 'assignee_lastknown_latitude',\n",
    " 'assignee_lastknown_location_id',\n",
    " 'assignee_lastknown_longitude',\n",
    " 'assignee_lastknown_state',\n",
    " 'assignee_latitude',\n",
    " 'assignee_location_id',\n",
    " 'assignee_longitude',\n",
    " 'assignee_organization',\n",
    " 'assignee_sequence',\n",
    " 'assignee_state',\n",
    " 'assignee_state_fips',\n",
    " 'assignee_total_num_inventors',\n",
    " 'assignee_total_num_patents',\n",
    " 'assignee_type',\n",
    " 'cited_patent_category',\n",
    " 'cited_patent_date',\n",
    " 'cited_patent_kind',\n",
    " 'cited_patent_number',\n",
    " 'cited_patent_sequence',\n",
    " 'cited_patent_title',\n",
    " 'citedby_patent_category',\n",
    " 'citedby_patent_date',\n",
    " 'citedby_patent_kind',\n",
    " 'citedby_patent_number',\n",
    " 'citedby_patent_title',\n",
    " 'cpc_category',\n",
    " 'cpc_first_seen_date',\n",
    " 'cpc_group_id',\n",
    " 'cpc_group_title',\n",
    " 'cpc_last_seen_date',\n",
    " 'cpc_section_id',\n",
    " 'cpc_sequence',\n",
    " 'cpc_subgroup_id',\n",
    " 'cpc_subgroup_title',\n",
    " 'cpc_subsection_id',\n",
    " 'cpc_subsection_title',\n",
    " 'cpc_total_num_assignees',\n",
    " 'cpc_total_num_inventors',\n",
    " 'cpc_total_num_patents',\n",
    " 'detail_desc_length',\n",
    " 'examiner_first_name',\n",
    " 'examiner_id',\n",
    " 'examiner_last_name',\n",
    " 'examiner_role',\n",
    " 'examiner_group',\n",
    " 'forprior_country',\n",
    " 'forprior_date',\n",
    " 'forprior_docnumber',\n",
    " 'forprior_kind',\n",
    " 'forprior_sequence',\n",
    " 'govint_contract_award_number',\n",
    " 'govint_org_id',\n",
    " 'govint_org_level_one',\n",
    " 'govint_org_level_two',\n",
    " 'govint_org_level_three',\n",
    " 'govint_org_name',\n",
    " 'govint_raw_statement',\n",
    " 'inventor_city',\n",
    " 'inventor_country',\n",
    " 'inventor_county',\n",
    " 'inventor_county_fips',\n",
    " 'inventor_first_name',\n",
    " 'inventor_first_seen_date',\n",
    " 'inventor_id',\n",
    " 'inventor_last_name',\n",
    " 'inventor_last_seen_date',\n",
    " 'inventor_lastknown_city',\n",
    " 'inventor_lastknown_country',\n",
    " 'inventor_lastknown_latitude',\n",
    " 'inventor_lastknown_location_id',\n",
    " 'inventor_lastknown_longitude',\n",
    " 'inventor_lastknown_state',\n",
    " 'inventor_latitude',\n",
    " 'inventor_location_id',\n",
    " 'inventor_longitude',\n",
    " 'inventor_sequence',\n",
    " 'inventor_state',\n",
    " 'inventor_state_fips',\n",
    " 'inventor_total_num_patents',\n",
    " 'ipc_action_date',\n",
    " 'ipc_class',\n",
    " 'ipc_classification_data_source',\n",
    " 'ipc_classification_value',\n",
    " 'ipc_first_seen_date',\n",
    " 'ipc_last_seen_date',\n",
    " 'ipc_main_group',\n",
    " 'ipc_section',\n",
    " 'ipc_sequence',\n",
    " 'ipc_subclass',\n",
    " 'ipc_subgroup',\n",
    " 'ipc_symbol_position',\n",
    " 'ipc_total_num_assignees',\n",
    " 'ipc_total_num_inventors',\n",
    " 'ipc_version_indicator',\n",
    " 'lawyer_first_name',\n",
    " 'lawyer_first_seen_date',\n",
    " 'lawyer_id',\n",
    " 'lawyer_last_name',\n",
    " 'lawyer_last_seen_date',\n",
    " 'lawyer_organization',\n",
    " 'lawyer_sequence',\n",
    " 'lawyer_total_num_assignees',\n",
    " 'lawyer_total_num_inventors',\n",
    " 'lawyer_total_num_patents',\n",
    " 'nber_category_id',\n",
    " 'nber_category_title',\n",
    " 'nber_first_seen_date',\n",
    " 'nber_last_seen_date',\n",
    " 'nber_subcategory_id',\n",
    " 'nber_subcategory_title',\n",
    " 'nber_total_num_assignees',\n",
    " 'nber_total_num_inventors',\n",
    " 'nber_total_num_patents',\n",
    " 'patent_abstract',\n",
    " 'patent_average_processing_time',\n",
    " 'patent_date',\n",
    " 'patent_firstnamed_assignee_city',\n",
    " 'patent_firstnamed_assignee_country',\n",
    " 'patent_firstnamed_assignee_id',\n",
    " 'patent_firstnamed_assignee_latitude',\n",
    " 'patent_firstnamed_assignee_location_id',\n",
    " 'patent_firstnamed_assignee_longitude',\n",
    " 'patent_firstnamed_assignee_state',\n",
    " 'patent_firstnamed_inventor_city',\n",
    " 'patent_firstnamed_inventor_country',\n",
    " 'patent_firstnamed_inventor_id',\n",
    " 'patent_firstnamed_inventor_latitude',\n",
    " 'patent_firstnamed_inventor_location_id',\n",
    " 'patent_firstnamed_inventor_longitude',\n",
    " 'patent_firstnamed_inventor_state',\n",
    " 'patent_kind',\n",
    " 'patent_num_cited_by_us_patents',\n",
    " 'patent_num_claims',\n",
    " 'patent_num_combined_citations',\n",
    " 'patent_num_foreign_citations',\n",
    " 'patent_num_us_application_citations',\n",
    " 'patent_num_us_patent_citations',\n",
    " 'patent_number',\n",
    " 'patent_processing_time',\n",
    " 'patent_title',\n",
    " 'patent_type',\n",
    " 'patent_year',\n",
    " 'pct_102_date',\n",
    " 'pct_371_date',\n",
    " 'pct_date',\n",
    " 'pct_docnumber',\n",
    " 'pct_doctype',\n",
    " 'pct_kind',\n",
    " 'rawinventor_first_name',\n",
    " 'rawinventor_last_name',\n",
    " 'uspc_first_seen_date',\n",
    " 'uspc_last_seen_date',\n",
    " 'uspc_mainclass_id',\n",
    " 'uspc_mainclass_title',\n",
    " 'uspc_sequence',\n",
    " 'uspc_subclass_id',\n",
    " 'uspc_subclass_title',\n",
    " 'uspc_total_num_assignees',\n",
    " 'uspc_total_num_inventors',\n",
    " 'uspc_total_num_patents',\n",
    " 'wipo_field_id',\n",
    " 'wipo_field_title',\n",
    " 'wipo_sector_title',\n",
    " 'wipo_sequence']"
   ]
  },
  {
   "cell_type": "code",
   "execution_count": 25,
   "metadata": {},
   "outputs": [],
   "source": [
    "patent_fields = ['patent_number', \n",
    "                 'patent_date', \n",
    "                 'patent_title',\n",
    "                 'patent_abstract', \n",
    "                 'patent_firstnamed_assignee_id', \n",
    "                 'patent_year', \n",
    "                 'patent_type', \n",
    "                 'patent_kind']"
   ]
  },
  {
   "cell_type": "code",
   "execution_count": 26,
   "metadata": {},
   "outputs": [],
   "source": [
    "query={\"_or\":[{\"_text_phrase\":{\"patent_title\":\"machine learning\"}},{\"_text_phrase\":{\"patent_abstract\":\"machine learning\"}}]}\n",
    "fields=patent_fields\n",
    "options={\"per_page\":4000}\n",
    "sort=[{\"patent_date\":\"desc\"}]\n",
    "\n",
    "params={'q': json.dumps(query),\n",
    "        'f': json.dumps(fields),\n",
    "        'o': json.dumps(options),\n",
    "        's': json.dumps(sort)}\n",
    "\n",
    "# other queries - uncomment to run\n",
    "# query={\"_text_phrase\":{\"patent_abstract\":\"machine learning\"}} \n",
    "# query={\"_text_all\":{\"patent_abstract\":\"machine learning\"}} \n",
    "# query={\"_or\":[{\"_text_all\":{\"patent_title\":\"machine learning\"}},{\"_text_all\":{\"patent_abstract\":\"machine learning\"}}]}"
   ]
  },
  {
   "cell_type": "code",
   "execution_count": 27,
   "metadata": {},
   "outputs": [],
   "source": [
    "# request and results\n",
    "resp = requests.get(endpoint_url, params=params)\n",
    "results = resp.json()"
   ]
  },
  {
   "cell_type": "code",
   "execution_count": 28,
   "metadata": {},
   "outputs": [
    {
     "name": "stdout",
     "output_type": "stream",
     "text": [
      "status code: 200 ; reason: OK\n",
      "total_patent_count: 3147 ; patents_per_page: 3147\n"
     ]
    }
   ],
   "source": [
    "# extract metadata from response\n",
    "print(\"status code:\", resp.status_code,';', \"reason:\", resp.reason)\n",
    "total_patent_count = results[\"total_patent_count\"]\n",
    "patents_per_page = results['count']\n",
    "print(\"total_patent_count:\",total_patent_count,';', \"patents_per_page:\", patents_per_page)"
   ]
  },
  {
   "cell_type": "code",
   "execution_count": 29,
   "metadata": {},
   "outputs": [
    {
     "data": {
      "text/html": [
       "<div>\n",
       "<style scoped>\n",
       "    .dataframe tbody tr th:only-of-type {\n",
       "        vertical-align: middle;\n",
       "    }\n",
       "\n",
       "    .dataframe tbody tr th {\n",
       "        vertical-align: top;\n",
       "    }\n",
       "\n",
       "    .dataframe thead th {\n",
       "        text-align: right;\n",
       "    }\n",
       "</style>\n",
       "<table border=\"1\" class=\"dataframe\">\n",
       "  <thead>\n",
       "    <tr style=\"text-align: right;\">\n",
       "      <th></th>\n",
       "      <th>patent_number</th>\n",
       "      <th>patent_date</th>\n",
       "      <th>patent_title</th>\n",
       "      <th>patent_abstract</th>\n",
       "      <th>patent_firstnamed_assignee_id</th>\n",
       "      <th>patent_year</th>\n",
       "      <th>patent_type</th>\n",
       "      <th>patent_kind</th>\n",
       "    </tr>\n",
       "  </thead>\n",
       "  <tbody>\n",
       "    <tr>\n",
       "      <td>0</td>\n",
       "      <td>10603498</td>\n",
       "      <td>2020-03-31</td>\n",
       "      <td>Systems and methods for closed-loop determinat...</td>\n",
       "      <td>A method or system for facilitating the determ...</td>\n",
       "      <td>org_5cFCcVidnLqkMwKWc9s4</td>\n",
       "      <td>2020</td>\n",
       "      <td>utility</td>\n",
       "      <td>B2</td>\n",
       "    </tr>\n",
       "    <tr>\n",
       "      <td>1</td>\n",
       "      <td>10603793</td>\n",
       "      <td>2020-03-31</td>\n",
       "      <td>Work assisting system including machine learni...</td>\n",
       "      <td>A work assisting system includes a sensor unit...</td>\n",
       "      <td>org_RQZono9Ir8KVdgNAaglV</td>\n",
       "      <td>2020</td>\n",
       "      <td>utility</td>\n",
       "      <td>B2</td>\n",
       "    </tr>\n",
       "    <tr>\n",
       "      <td>2</td>\n",
       "      <td>10603797</td>\n",
       "      <td>2020-03-31</td>\n",
       "      <td>Machine learning device, robot system, and mac...</td>\n",
       "      <td>A machine learning device for learning a motio...</td>\n",
       "      <td>org_RQZono9Ir8KVdgNAaglV</td>\n",
       "      <td>2020</td>\n",
       "      <td>utility</td>\n",
       "      <td>B2</td>\n",
       "    </tr>\n",
       "    <tr>\n",
       "      <td>3</td>\n",
       "      <td>10605228</td>\n",
       "      <td>2020-03-31</td>\n",
       "      <td>Method for controlling operation of a wind tur...</td>\n",
       "      <td>A method for controlling operation of a wind t...</td>\n",
       "      <td>org_VIvs7w0sts1aCjlrKaiG</td>\n",
       "      <td>2020</td>\n",
       "      <td>utility</td>\n",
       "      <td>B2</td>\n",
       "    </tr>\n",
       "    <tr>\n",
       "      <td>4</td>\n",
       "      <td>10605702</td>\n",
       "      <td>2020-03-31</td>\n",
       "      <td>Fluid analysis and monitoring using optical sp...</td>\n",
       "      <td>Systems, methods, and computer-program product...</td>\n",
       "      <td>org_aHdfa1XsbUURjnXmlGyp</td>\n",
       "      <td>2020</td>\n",
       "      <td>utility</td>\n",
       "      <td>B2</td>\n",
       "    </tr>\n",
       "  </tbody>\n",
       "</table>\n",
       "</div>"
      ],
      "text/plain": [
       "  patent_number patent_date  \\\n",
       "0      10603498  2020-03-31   \n",
       "1      10603793  2020-03-31   \n",
       "2      10603797  2020-03-31   \n",
       "3      10605228  2020-03-31   \n",
       "4      10605702  2020-03-31   \n",
       "\n",
       "                                        patent_title  \\\n",
       "0  Systems and methods for closed-loop determinat...   \n",
       "1  Work assisting system including machine learni...   \n",
       "2  Machine learning device, robot system, and mac...   \n",
       "3  Method for controlling operation of a wind tur...   \n",
       "4  Fluid analysis and monitoring using optical sp...   \n",
       "\n",
       "                                     patent_abstract  \\\n",
       "0  A method or system for facilitating the determ...   \n",
       "1  A work assisting system includes a sensor unit...   \n",
       "2  A machine learning device for learning a motio...   \n",
       "3  A method for controlling operation of a wind t...   \n",
       "4  Systems, methods, and computer-program product...   \n",
       "\n",
       "  patent_firstnamed_assignee_id patent_year patent_type patent_kind  \n",
       "0      org_5cFCcVidnLqkMwKWc9s4        2020     utility          B2  \n",
       "1      org_RQZono9Ir8KVdgNAaglV        2020     utility          B2  \n",
       "2      org_RQZono9Ir8KVdgNAaglV        2020     utility          B2  \n",
       "3      org_VIvs7w0sts1aCjlrKaiG        2020     utility          B2  \n",
       "4      org_aHdfa1XsbUURjnXmlGyp        2020     utility          B2  "
      ]
     },
     "execution_count": 29,
     "metadata": {},
     "output_type": "execute_result"
    }
   ],
   "source": [
    "# extract data from response\n",
    "data = results['patents']\n",
    "df = pd.DataFrame(data)\n",
    "df.head()"
   ]
  },
  {
   "cell_type": "code",
   "execution_count": 30,
   "metadata": {},
   "outputs": [
    {
     "data": {
      "text/plain": [
       "3147"
      ]
     },
     "execution_count": 30,
     "metadata": {},
     "output_type": "execute_result"
    }
   ],
   "source": [
    "len(df)"
   ]
  },
  {
   "cell_type": "code",
   "execution_count": 31,
   "metadata": {},
   "outputs": [
    {
     "data": {
      "text/plain": [
       "Index(['patent_number', 'patent_date', 'patent_title', 'patent_abstract',\n",
       "       'patent_firstnamed_assignee_id', 'patent_year', 'patent_type',\n",
       "       'patent_kind'],\n",
       "      dtype='object')"
      ]
     },
     "execution_count": 31,
     "metadata": {},
     "output_type": "execute_result"
    }
   ],
   "source": [
    "df.columns"
   ]
  },
  {
   "cell_type": "code",
   "execution_count": 32,
   "metadata": {},
   "outputs": [
    {
     "data": {
      "text/plain": [
       "0    Systems and methods for closed-loop determinat...\n",
       "1    Work assisting system including machine learni...\n",
       "2    Machine learning device, robot system, and mac...\n",
       "Name: patent_title_and_abstract, dtype: object"
      ]
     },
     "execution_count": 32,
     "metadata": {},
     "output_type": "execute_result"
    }
   ],
   "source": [
    "df['patent_title_and_abstract'] = df.patent_title + ' ' + df.patent_abstract\n",
    "df.patent_title_and_abstract.head(3)"
   ]
  },
  {
   "cell_type": "code",
   "execution_count": 33,
   "metadata": {},
   "outputs": [],
   "source": [
    "df.to_pickle(\"data/df.pkl\")"
   ]
  },
  {
   "cell_type": "code",
   "execution_count": null,
   "metadata": {},
   "outputs": [],
   "source": []
  },
  {
   "cell_type": "code",
   "execution_count": null,
   "metadata": {},
   "outputs": [],
   "source": []
  },
  {
   "cell_type": "code",
   "execution_count": null,
   "metadata": {},
   "outputs": [],
   "source": []
  }
 ],
 "metadata": {
  "kernelspec": {
   "display_name": "Python 3",
   "language": "python",
   "name": "python3"
  },
  "language_info": {
   "codemirror_mode": {
    "name": "ipython",
    "version": 3
   },
   "file_extension": ".py",
   "mimetype": "text/x-python",
   "name": "python",
   "nbconvert_exporter": "python",
   "pygments_lexer": "ipython3",
   "version": "3.7.4"
  }
 },
 "nbformat": 4,
 "nbformat_minor": 4
}
