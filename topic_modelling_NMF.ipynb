{
 "cells": [
  {
   "cell_type": "markdown",
   "metadata": {},
   "source": [
    "### Import Packages and py Files"
   ]
  },
  {
   "cell_type": "code",
   "execution_count": 24,
   "metadata": {},
   "outputs": [],
   "source": [
    "import string\n",
    "import spacy\n",
    "from spacy.lang.en.stop_words import STOP_WORDS\n",
    "from spacy.lang.en import English\n",
    "from tokenizer_function import spacy_tokenizer\n",
    "\n",
    "import pandas as pd\n",
    "import pickle\n",
    "import numpy as np\n",
    "from sklearn.feature_extraction.text import TfidfVectorizer\n",
    "from sklearn.decomposition import TruncatedSVD\n",
    "from sklearn.model_selection import GridSearchCV\n",
    "from sklearn.preprocessing import Normalizer\n",
    "from sklearn.cluster import KMeans, DBSCAN, MeanShift, AgglomerativeClustering, Birch, SpectralClustering\n",
    "import matplotlib.pyplot as plt\n",
    "%matplotlib inline"
   ]
  },
  {
   "cell_type": "markdown",
   "metadata": {},
   "source": [
    "### Get Patent Dataframe"
   ]
  },
  {
   "cell_type": "code",
   "execution_count": 2,
   "metadata": {},
   "outputs": [
    {
     "data": {
      "text/html": [
       "<div>\n",
       "<style scoped>\n",
       "    .dataframe tbody tr th:only-of-type {\n",
       "        vertical-align: middle;\n",
       "    }\n",
       "\n",
       "    .dataframe tbody tr th {\n",
       "        vertical-align: top;\n",
       "    }\n",
       "\n",
       "    .dataframe thead th {\n",
       "        text-align: right;\n",
       "    }\n",
       "</style>\n",
       "<table border=\"1\" class=\"dataframe\">\n",
       "  <thead>\n",
       "    <tr style=\"text-align: right;\">\n",
       "      <th></th>\n",
       "      <th>patent_number</th>\n",
       "      <th>patent_date</th>\n",
       "      <th>patent_title</th>\n",
       "      <th>patent_abstract</th>\n",
       "      <th>patent_firstnamed_assignee_id</th>\n",
       "      <th>patent_year</th>\n",
       "      <th>patent_type</th>\n",
       "      <th>patent_kind</th>\n",
       "      <th>patent_title_and_abstract</th>\n",
       "    </tr>\n",
       "  </thead>\n",
       "  <tbody>\n",
       "    <tr>\n",
       "      <td>0</td>\n",
       "      <td>10603498</td>\n",
       "      <td>2020-03-31</td>\n",
       "      <td>Systems and methods for closed-loop determinat...</td>\n",
       "      <td>A method or system for facilitating the determ...</td>\n",
       "      <td>org_5cFCcVidnLqkMwKWc9s4</td>\n",
       "      <td>2020</td>\n",
       "      <td>utility</td>\n",
       "      <td>B2</td>\n",
       "      <td>Systems and methods for closed-loop determinat...</td>\n",
       "    </tr>\n",
       "    <tr>\n",
       "      <td>1</td>\n",
       "      <td>10603793</td>\n",
       "      <td>2020-03-31</td>\n",
       "      <td>Work assisting system including machine learni...</td>\n",
       "      <td>A work assisting system includes a sensor unit...</td>\n",
       "      <td>org_RQZono9Ir8KVdgNAaglV</td>\n",
       "      <td>2020</td>\n",
       "      <td>utility</td>\n",
       "      <td>B2</td>\n",
       "      <td>Work assisting system including machine learni...</td>\n",
       "    </tr>\n",
       "    <tr>\n",
       "      <td>2</td>\n",
       "      <td>10603797</td>\n",
       "      <td>2020-03-31</td>\n",
       "      <td>Machine learning device, robot system, and mac...</td>\n",
       "      <td>A machine learning device for learning a motio...</td>\n",
       "      <td>org_RQZono9Ir8KVdgNAaglV</td>\n",
       "      <td>2020</td>\n",
       "      <td>utility</td>\n",
       "      <td>B2</td>\n",
       "      <td>Machine learning device, robot system, and mac...</td>\n",
       "    </tr>\n",
       "    <tr>\n",
       "      <td>3</td>\n",
       "      <td>10605228</td>\n",
       "      <td>2020-03-31</td>\n",
       "      <td>Method for controlling operation of a wind tur...</td>\n",
       "      <td>A method for controlling operation of a wind t...</td>\n",
       "      <td>org_VIvs7w0sts1aCjlrKaiG</td>\n",
       "      <td>2020</td>\n",
       "      <td>utility</td>\n",
       "      <td>B2</td>\n",
       "      <td>Method for controlling operation of a wind tur...</td>\n",
       "    </tr>\n",
       "    <tr>\n",
       "      <td>4</td>\n",
       "      <td>10605702</td>\n",
       "      <td>2020-03-31</td>\n",
       "      <td>Fluid analysis and monitoring using optical sp...</td>\n",
       "      <td>Systems, methods, and computer-program product...</td>\n",
       "      <td>org_aHdfa1XsbUURjnXmlGyp</td>\n",
       "      <td>2020</td>\n",
       "      <td>utility</td>\n",
       "      <td>B2</td>\n",
       "      <td>Fluid analysis and monitoring using optical sp...</td>\n",
       "    </tr>\n",
       "  </tbody>\n",
       "</table>\n",
       "</div>"
      ],
      "text/plain": [
       "  patent_number patent_date  \\\n",
       "0      10603498  2020-03-31   \n",
       "1      10603793  2020-03-31   \n",
       "2      10603797  2020-03-31   \n",
       "3      10605228  2020-03-31   \n",
       "4      10605702  2020-03-31   \n",
       "\n",
       "                                        patent_title  \\\n",
       "0  Systems and methods for closed-loop determinat...   \n",
       "1  Work assisting system including machine learni...   \n",
       "2  Machine learning device, robot system, and mac...   \n",
       "3  Method for controlling operation of a wind tur...   \n",
       "4  Fluid analysis and monitoring using optical sp...   \n",
       "\n",
       "                                     patent_abstract  \\\n",
       "0  A method or system for facilitating the determ...   \n",
       "1  A work assisting system includes a sensor unit...   \n",
       "2  A machine learning device for learning a motio...   \n",
       "3  A method for controlling operation of a wind t...   \n",
       "4  Systems, methods, and computer-program product...   \n",
       "\n",
       "  patent_firstnamed_assignee_id patent_year patent_type patent_kind  \\\n",
       "0      org_5cFCcVidnLqkMwKWc9s4        2020     utility          B2   \n",
       "1      org_RQZono9Ir8KVdgNAaglV        2020     utility          B2   \n",
       "2      org_RQZono9Ir8KVdgNAaglV        2020     utility          B2   \n",
       "3      org_VIvs7w0sts1aCjlrKaiG        2020     utility          B2   \n",
       "4      org_aHdfa1XsbUURjnXmlGyp        2020     utility          B2   \n",
       "\n",
       "                           patent_title_and_abstract  \n",
       "0  Systems and methods for closed-loop determinat...  \n",
       "1  Work assisting system including machine learni...  \n",
       "2  Machine learning device, robot system, and mac...  \n",
       "3  Method for controlling operation of a wind tur...  \n",
       "4  Fluid analysis and monitoring using optical sp...  "
      ]
     },
     "execution_count": 2,
     "metadata": {},
     "output_type": "execute_result"
    }
   ],
   "source": [
    "df = pd.read_pickle(\"data/df.pkl\")\n",
    "df.head()"
   ]
  },
  {
   "cell_type": "code",
   "execution_count": 25,
   "metadata": {},
   "outputs": [],
   "source": [
    "text_list = df['patent_title_and_abstract']"
   ]
  },
  {
   "cell_type": "markdown",
   "metadata": {},
   "source": [
    "### Additional Stopwords To Improve Topic Modelling Accuracy"
   ]
  },
  {
   "cell_type": "code",
   "execution_count": 3,
   "metadata": {},
   "outputs": [],
   "source": [
    "# Add terms that are too generic for this topic modelling task, like \"machine, learning, model\" etc\n",
    "additional_stopwords = ['training', 'problem', 'use', 'model', 'machine', 'learning', 'function', 'set', 'data', 'learn',\n",
    "                        'determine', 'program', 'computer', 'parameter', 'memory', 'node', 'configure', 'sequence',\n",
    "                        'computing', 'datum', 'compute', 'result', 'generate', 'field', 'file', 'code', 'method', 'test',\n",
    "                        'interface', 'pattern', 'user', 'employ', 'operation', 'technique', 'analysis', 'neural', 'network',\n",
    "                        'invention', 'feature', 'object']"
   ]
  },
  {
   "cell_type": "markdown",
   "metadata": {},
   "source": [
    "### TF-IDF Word2Vec"
   ]
  },
  {
   "cell_type": "code",
   "execution_count": 6,
   "metadata": {},
   "outputs": [],
   "source": [
    "tfidf_cv = TfidfVectorizer(tokenizer=spacy_tokenizer, ngram_range = (1,2), stop_words=additional_stopwords)\n",
    "tfidf_dtm = tfidf_cv.fit_transform(df['patent_title_and_abstract'])"
   ]
  },
  {
   "cell_type": "markdown",
   "metadata": {},
   "source": [
    "### LSA"
   ]
  },
  {
   "cell_type": "code",
   "execution_count": 26,
   "metadata": {},
   "outputs": [],
   "source": [
    "lsa = TruncatedSVD(400, algorithm='arpack')\n",
    "lsa_vecs = lsa.fit_transform(tfidf_dtm)\n",
    "lsa_vecs = Normalizer(copy=False).fit_transform(lsa_vecs)\n",
    "feature_names = tfidf_cv.get_feature_names()\n",
    "lsa_df = pd.DataFrame(lsa.components_.round(5), columns=feature_names)"
   ]
  },
  {
   "cell_type": "code",
   "execution_count": 27,
   "metadata": {},
   "outputs": [],
   "source": [
    "np.save('tf_idf_vecs', tfidf_dtm)\n",
    "np.save('lsa_vecs', lsa_vecs)\n",
    "np.save('feature_names', feature_names)\n",
    "lsa_df.to_pickle('lsa_df.pkl')"
   ]
  },
  {
   "cell_type": "markdown",
   "metadata": {},
   "source": [
    "## Cluster\n",
    "### DBSCAN"
   ]
  },
  {
   "cell_type": "code",
   "execution_count": 28,
   "metadata": {},
   "outputs": [],
   "source": [
    "db = DBSCAN(n_jobs=-1, eps=0.5, min_samples=25)\n",
    "db_clusters = db.fit_predict(lsa_vecs)"
   ]
  },
  {
   "cell_type": "code",
   "execution_count": 29,
   "metadata": {},
   "outputs": [],
   "source": [
    "db_2 = DBSCAN(n_jobs=-1, eps=0.6, min_samples=25)\n",
    "db_2_clusters = db_2.fit_predict(lsa_vecs)"
   ]
  },
  {
   "cell_type": "code",
   "execution_count": 30,
   "metadata": {},
   "outputs": [],
   "source": [
    "db_3 = DBSCAN(n_jobs=-1, eps=0.7, min_samples=15)\n",
    "db_3_clusters = db_3.fit_predict(lsa_vecs)"
   ]
  },
  {
   "cell_type": "code",
   "execution_count": 31,
   "metadata": {},
   "outputs": [
    {
     "name": "stdout",
     "output_type": "stream",
     "text": [
      "3147\n",
      "3147\n",
      "3147\n"
     ]
    }
   ],
   "source": [
    "print(len(lsa_vecs))\n",
    "print(len(db_clusters))\n",
    "print(len(df))"
   ]
  },
  {
   "cell_type": "code",
   "execution_count": 32,
   "metadata": {},
   "outputs": [],
   "source": [
    "d = {'db_1_clusters':db_clusters, 'db_2_clusters':db_2_clusters, 'db_3_clusters':db_3_clusters}\n",
    "db_clusters_df = pd.DataFrame(d)"
   ]
  },
  {
   "cell_type": "code",
   "execution_count": 33,
   "metadata": {},
   "outputs": [
    {
     "data": {
      "text/html": [
       "<div>\n",
       "<style scoped>\n",
       "    .dataframe tbody tr th:only-of-type {\n",
       "        vertical-align: middle;\n",
       "    }\n",
       "\n",
       "    .dataframe tbody tr th {\n",
       "        vertical-align: top;\n",
       "    }\n",
       "\n",
       "    .dataframe thead th {\n",
       "        text-align: right;\n",
       "    }\n",
       "</style>\n",
       "<table border=\"1\" class=\"dataframe\">\n",
       "  <thead>\n",
       "    <tr style=\"text-align: right;\">\n",
       "      <th></th>\n",
       "      <th>db_1_clusters</th>\n",
       "      <th>db_2_clusters</th>\n",
       "      <th>db_3_clusters</th>\n",
       "    </tr>\n",
       "  </thead>\n",
       "  <tbody>\n",
       "    <tr>\n",
       "      <td>2354</td>\n",
       "      <td>-1</td>\n",
       "      <td>-1</td>\n",
       "      <td>-1</td>\n",
       "    </tr>\n",
       "    <tr>\n",
       "      <td>14</td>\n",
       "      <td>-1</td>\n",
       "      <td>-1</td>\n",
       "      <td>-1</td>\n",
       "    </tr>\n",
       "    <tr>\n",
       "      <td>100</td>\n",
       "      <td>-1</td>\n",
       "      <td>-1</td>\n",
       "      <td>-1</td>\n",
       "    </tr>\n",
       "    <tr>\n",
       "      <td>2250</td>\n",
       "      <td>-1</td>\n",
       "      <td>-1</td>\n",
       "      <td>-1</td>\n",
       "    </tr>\n",
       "    <tr>\n",
       "      <td>2126</td>\n",
       "      <td>-1</td>\n",
       "      <td>-1</td>\n",
       "      <td>-1</td>\n",
       "    </tr>\n",
       "    <tr>\n",
       "      <td>2723</td>\n",
       "      <td>-1</td>\n",
       "      <td>-1</td>\n",
       "      <td>-1</td>\n",
       "    </tr>\n",
       "    <tr>\n",
       "      <td>1215</td>\n",
       "      <td>-1</td>\n",
       "      <td>-1</td>\n",
       "      <td>-1</td>\n",
       "    </tr>\n",
       "    <tr>\n",
       "      <td>1509</td>\n",
       "      <td>-1</td>\n",
       "      <td>-1</td>\n",
       "      <td>-1</td>\n",
       "    </tr>\n",
       "    <tr>\n",
       "      <td>2429</td>\n",
       "      <td>-1</td>\n",
       "      <td>-1</td>\n",
       "      <td>-1</td>\n",
       "    </tr>\n",
       "    <tr>\n",
       "      <td>1874</td>\n",
       "      <td>-1</td>\n",
       "      <td>-1</td>\n",
       "      <td>-1</td>\n",
       "    </tr>\n",
       "  </tbody>\n",
       "</table>\n",
       "</div>"
      ],
      "text/plain": [
       "      db_1_clusters  db_2_clusters  db_3_clusters\n",
       "2354             -1             -1             -1\n",
       "14               -1             -1             -1\n",
       "100              -1             -1             -1\n",
       "2250             -1             -1             -1\n",
       "2126             -1             -1             -1\n",
       "2723             -1             -1             -1\n",
       "1215             -1             -1             -1\n",
       "1509             -1             -1             -1\n",
       "2429             -1             -1             -1\n",
       "1874             -1             -1             -1"
      ]
     },
     "execution_count": 33,
     "metadata": {},
     "output_type": "execute_result"
    }
   ],
   "source": [
    "db_clusters_df.sample(10)"
   ]
  },
  {
   "cell_type": "markdown",
   "metadata": {},
   "source": [
    "### Explore Cluster Sizes"
   ]
  },
  {
   "cell_type": "code",
   "execution_count": 34,
   "metadata": {},
   "outputs": [
    {
     "data": {
      "text/plain": [
       "<matplotlib.axes._subplots.AxesSubplot at 0x216245e3308>"
      ]
     },
     "execution_count": 34,
     "metadata": {},
     "output_type": "execute_result"
    },
    {
     "data": {
      "image/png": "[encoded data removed]",
      "text/plain": [
       "<Figure size 432x288 with 1 Axes>"
      ]
     },
     "metadata": {
      "needs_background": "light"
     },
     "output_type": "display_data"
    }
   ],
   "source": [
    "db_clusters_df['db_1_clusters'].hist()"
   ]
  },
  {
   "cell_type": "code",
   "execution_count": 35,
   "metadata": {},
   "outputs": [
    {
     "data": {
      "text/plain": [
       "<matplotlib.axes._subplots.AxesSubplot at 0x21623ebaec8>"
      ]
     },
     "execution_count": 35,
     "metadata": {},
     "output_type": "execute_result"
    },
    {
     "data": {
      "image/png": "[encoded data removed]",
      "text/plain": [
       "<Figure size 432x288 with 1 Axes>"
      ]
     },
     "metadata": {
      "needs_background": "light"
     },
     "output_type": "display_data"
    }
   ],
   "source": [
    "db_clusters_df['db_2_clusters'].hist()"
   ]
  },
  {
   "cell_type": "code",
   "execution_count": 36,
   "metadata": {},
   "outputs": [
    {
     "data": {
      "text/plain": [
       "<matplotlib.axes._subplots.AxesSubplot at 0x21624486b48>"
      ]
     },
     "execution_count": 36,
     "metadata": {},
     "output_type": "execute_result"
    },
    {
     "data": {
      "image/png": "[encoded data removed]",
      "text/plain": [
       "<Figure size 432x288 with 1 Axes>"
      ]
     },
     "metadata": {
      "needs_background": "light"
     },
     "output_type": "display_data"
    }
   ],
   "source": [
    "db_clusters_df['db_3_clusters'].hist()"
   ]
  },
  {
   "cell_type": "markdown",
   "metadata": {},
   "source": [
    "## Outcome\n",
    "DBSCAN is not a good fit for topic modelling in this scenario due to noisyness of the text corpus. "
   ]
  },
  {
   "cell_type": "code",
   "execution_count": null,
   "metadata": {},
   "outputs": [],
   "source": []
  }
 ],
 "metadata": {
  "kernelspec": {
   "display_name": "Python 3",
   "language": "python",
   "name": "python3"
  },
  "language_info": {
   "codemirror_mode": {
    "name": "ipython",
    "version": 3
   },
   "file_extension": ".py",
   "mimetype": "text/x-python",
   "name": "python",
   "nbconvert_exporter": "python",
   "pygments_lexer": "ipython3",
   "version": "3.7.4"
  }
 },
 "nbformat": 4,
 "nbformat_minor": 4
}
